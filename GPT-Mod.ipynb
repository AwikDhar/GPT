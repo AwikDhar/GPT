{
 "cells": [
  {
   "cell_type": "code",
   "execution_count": 28,
   "id": "07372602-119b-4fc8-8c4e-c8aec2cbc5ba",
   "metadata": {
    "tags": []
   },
   "outputs": [],
   "source": [
    "import requests\n",
    "from datasets import load_dataset\n",
    "from typing import List, Optional\n",
    "import torch\n",
    "from torch import nn\n",
    "from torch.nn import functional as F\n",
    "from tqdm.notebook import tqdm"
   ]
  },
  {
   "cell_type": "code",
   "execution_count": null,
   "id": "5a5d05e8-ac3d-4e28-a76b-df56683f48f3",
   "metadata": {
    "tags": []
   },
   "outputs": [],
   "source": [
    "wiki = load_dataset(\"wikimedia/wikipedia\", \"20231101.en\")"
   ]
  },
  {
   "cell_type": "code",
   "execution_count": null,
   "id": "64bba7ad-247f-448a-84ff-8031c420cff9",
   "metadata": {
    "tags": []
   },
   "outputs": [],
   "source": [
    "wiki['train']['text'][100:122]"
   ]
  },
  {
   "cell_type": "code",
   "execution_count": 29,
   "id": "d13ee326-59f3-4093-a2c4-0e8f82522248",
   "metadata": {
    "tags": []
   },
   "outputs": [],
   "source": [
    "with open('tinyshakespeare.txt',\n",
    "          'r') as file:\n",
    "    data = file.read()"
   ]
  },
  {
   "cell_type": "code",
   "execution_count": 30,
   "id": "a1b66383-e94c-4cf3-810e-1fab584c3604",
   "metadata": {
    "tags": []
   },
   "outputs": [],
   "source": [
    "chars = set()\n",
    "for i in range(0, len(data), 100):\n",
    "    chars |= set(data[i:i+100])  \n",
    "\n",
    "chars = sorted(list(chars))"
   ]
  },
  {
   "cell_type": "code",
   "execution_count": 31,
   "id": "af899181-5391-42b1-9603-de3a087a4336",
   "metadata": {
    "tags": []
   },
   "outputs": [
    {
     "data": {
      "text/plain": [
       "(65, \"\\n !$&',-.3:;?ABCDEFGHIJKLMNOPQRSTUVWXYZabcdefghijklmnopqrstuvwxyz\")"
      ]
     },
     "execution_count": 31,
     "metadata": {},
     "output_type": "execute_result"
    }
   ],
   "source": [
    "len(chars), ''.join(chars)"
   ]
  },
  {
   "cell_type": "code",
   "execution_count": 32,
   "id": "6000bbe1-1c21-42bc-a85d-401be44e986c",
   "metadata": {
    "tags": []
   },
   "outputs": [],
   "source": [
    "device = 'cuda' if torch.cuda.is_available() else 'cpu'"
   ]
  },
  {
   "cell_type": "markdown",
   "id": "24303ab1-b31f-41af-b589-f686645fd0a1",
   "metadata": {},
   "source": [
    "### \"Tokenizer\""
   ]
  },
  {
   "cell_type": "code",
   "execution_count": 35,
   "id": "7d0c6e35-b8ad-433b-9241-f1106449d902",
   "metadata": {
    "tags": []
   },
   "outputs": [],
   "source": [
    "class Tokenizer:\n",
    "    def __init__(self):\n",
    "        with open('tinyshakespeare.txt', 'r') as file:\n",
    "            data = file.read()\n",
    "            \n",
    "        chars = set()\n",
    "        for i in range(0, len(data), 100):\n",
    "            chars |= set(data[i:i+100])  \n",
    "\n",
    "        self.chars = sorted(list(chars))\n",
    "        self.itos = {i:c for i,c in enumerate(chars)}\n",
    "        self.stoi = {c:i for i,c in enumerate(chars)}\n",
    "        \n",
    "    def tokenize(self, text: str):\n",
    "        return [self.stoi[char] for char in text]\n",
    "    \n",
    "    def decode(self, tokens: List[int]):\n",
    "        return ''.join([self.itos[token] for token in tokens])"
   ]
  },
  {
   "cell_type": "code",
   "execution_count": 36,
   "id": "cea8df56-8ec1-4da1-b20e-155abbc46acd",
   "metadata": {
    "tags": []
   },
   "outputs": [],
   "source": [
    "tokenizer = Tokenizer()"
   ]
  },
  {
   "cell_type": "code",
   "execution_count": 37,
   "id": "e10d48ae-62d8-4efc-8406-3bf8d97d44c3",
   "metadata": {
    "tags": []
   },
   "outputs": [
    {
     "data": {
      "text/plain": [
       "[26, 25, 38, 38, 20]"
      ]
     },
     "execution_count": 37,
     "metadata": {},
     "output_type": "execute_result"
    }
   ],
   "source": [
    "tokens = tokenizer.tokenize('hello')\n",
    "tokens"
   ]
  },
  {
   "cell_type": "code",
   "execution_count": 38,
   "id": "16f987e9-800a-4b25-9be1-d7d87d852160",
   "metadata": {
    "tags": []
   },
   "outputs": [
    {
     "data": {
      "text/plain": [
       "'hello'"
      ]
     },
     "execution_count": 38,
     "metadata": {},
     "output_type": "execute_result"
    }
   ],
   "source": [
    "tokenizer.decode(tokens)"
   ]
  },
  {
   "cell_type": "code",
   "execution_count": 39,
   "id": "2da2df54-1394-4ff2-9c4c-38c196d3c19f",
   "metadata": {
    "tags": []
   },
   "outputs": [],
   "source": [
    "data = torch.tensor(tokenizer.tokenize(data))"
   ]
  },
  {
   "cell_type": "code",
   "execution_count": 40,
   "id": "ba9f53c7-4588-454a-9918-bd01e48fa164",
   "metadata": {
    "tags": []
   },
   "outputs": [
    {
     "data": {
      "text/plain": [
       "(1003854, 111540)"
      ]
     },
     "execution_count": 40,
     "metadata": {},
     "output_type": "execute_result"
    }
   ],
   "source": [
    "train_size = int(0.9*len(data))\n",
    "train = data[:train_size]\n",
    "test = data[train_size:]\n",
    "\n",
    "len(train), len(test)"
   ]
  },
  {
   "cell_type": "code",
   "execution_count": 41,
   "id": "a7714b56-96d7-424a-9e30-4c2bbefd612a",
   "metadata": {
    "tags": []
   },
   "outputs": [],
   "source": [
    "def get_batches(data, batch_size=16, block_size = 8, device=None):\n",
    "    if device is None:\n",
    "        device = 'cuda' if torch.cuda.is_available() else 'cpu'\n",
    "        \n",
    "    rand_starts = torch.randint(len(data)-block_size, (batch_size,))\n",
    "    x = torch.stack([data[start:start+block_size] for start in rand_starts])\n",
    "    y = torch.stack([data[start+1:start+block_size+1] for start in rand_starts])    \n",
    "    \n",
    "    return x.to(device), y.to(device)"
   ]
  },
  {
   "cell_type": "code",
   "execution_count": 12,
   "id": "4440e327-b92e-43d7-bf2f-45e121cc07c3",
   "metadata": {
    "tags": []
   },
   "outputs": [],
   "source": [
    "B, T, C = 8, 16, 65\n",
    "tokens = torch.randn((B, T, C))\n",
    "tril = torch.tril(torch.ones((T,T)))"
   ]
  },
  {
   "cell_type": "code",
   "execution_count": 13,
   "id": "56e9c572-b9a9-46fc-affb-5740f76f4e17",
   "metadata": {
    "tags": []
   },
   "outputs": [
    {
     "data": {
      "text/plain": [
       "tensor([[-1.0655, -0.4815,  0.8515,  ...,  1.5455,  1.3472, -0.2571],\n",
       "        [ 0.5135,  0.7321, -0.9683,  ..., -0.1422,  0.6172, -0.7871],\n",
       "        [ 0.9014,  0.4552,  0.5468,  ...,  0.8927,  1.7480, -0.3781],\n",
       "        ...,\n",
       "        [-0.9398,  0.1345, -0.8961,  ...,  3.2920,  0.1951, -0.1791],\n",
       "        [ 0.1348, -0.6786,  0.4097,  ...,  0.2523, -0.2292, -1.5613],\n",
       "        [ 0.4031, -1.2502, -0.7428,  ...,  2.1601, -1.0916,  0.0732]])"
      ]
     },
     "execution_count": 13,
     "metadata": {},
     "output_type": "execute_result"
    }
   ],
   "source": [
    "tokens[0]"
   ]
  },
  {
   "cell_type": "code",
   "execution_count": null,
   "id": "d7c99a51-e1b5-479a-a6bc-8c880d50fd88",
   "metadata": {
    "tags": []
   },
   "outputs": [],
   "source": [
    "zeroes = torch.zeros((T,T))\n",
    "zeroes = zeroes.masked_fill(tril==0, -torch.inf)\n",
    "F.softmax(zeroes, dim=-1)"
   ]
  },
  {
   "cell_type": "code",
   "execution_count": 42,
   "id": "50cf899f-d683-44fd-96fc-811715000ca5",
   "metadata": {},
   "outputs": [],
   "source": [
    "embedding_dim = 128\n",
    "num_heads = 8\n",
    "max_iters = 2000\n",
    "eval_interval = 300\n",
    "eval_iters = 50\n",
    "lr = 1e-3\n",
    "dropout = 0.1\n",
    "vocab_size = len(tokenizer.chars)\n",
    "\n",
    "batch_size = 16\n",
    "context_length = 100\n",
    "\n",
    "device = 'cuda' if torch.cuda.is_available() else 'cpu'"
   ]
  },
  {
   "cell_type": "code",
   "execution_count": 43,
   "id": "7e1b4420-1a3f-416f-b1d9-532752601e65",
   "metadata": {
    "tags": []
   },
   "outputs": [],
   "source": [
    "class SelfAttentionHead(nn.Module):\n",
    "    def __init__(self, embedding_dim: int, head_size: int):\n",
    "        super().__init__()\n",
    "        self.query = nn.Linear(embedding_dim, head_size)\n",
    "        self.key = nn.Linear(embedding_dim, head_size)\n",
    "        self.value = nn.Linear(embedding_dim, head_size)\n",
    "        self.register_buffer('tril', torch.tril(torch.ones(context_length, context_length)).to(device))\n",
    "        self.dropout = nn.Dropout(p=dropout)\n",
    "        \n",
    "    def forward(self, x):\n",
    "        B,T,C = x.shape\n",
    "        \n",
    "        queries = self.query(x)\n",
    "        keys = self.key(x)\n",
    "        values = self.value(x)\n",
    "        \n",
    "        wei = queries@keys.transpose(-2,-1)/(queries.shape[-1]**0.5)\n",
    "        wei = wei.masked_fill(self.tril[-T:, -T:]==0, -torch.inf)\n",
    "        weights = F.softmax(wei, dim=-1)\n",
    "        \n",
    "        out = weights@values\n",
    "        out = self.dropout(out)\n",
    "        \n",
    "        return out        "
   ]
  },
  {
   "cell_type": "code",
   "execution_count": 44,
   "id": "5b6884ce-40a0-4f17-b7ff-129a008d67bd",
   "metadata": {
    "tags": []
   },
   "outputs": [],
   "source": [
    "class MultiHeadAttention(nn.Module):\n",
    "    def __init__(self, embedding_dim: int, num_heads: int):\n",
    "        super().__init__()\n",
    "        head_size = embedding_dim//num_heads\n",
    "        self.heads = nn.ModuleList([SelfAttentionHead(embedding_dim, head_size) for _ in range(num_heads)])\n",
    "        self.o_proj = nn.Linear(head_size*num_heads, embedding_dim)\n",
    "        self.dropout = nn.Dropout(p=dropout)\n",
    "        \n",
    "    def forward(self, x):\n",
    "        out = torch.cat([head(x) for head in self.heads], dim=-1)\n",
    "        out = self.o_proj(out)\n",
    "        out = self.dropout(out)\n",
    "        \n",
    "        return out"
   ]
  },
  {
   "cell_type": "code",
   "execution_count": 45,
   "id": "5a07f542-32c3-402a-b820-033d5eaeb111",
   "metadata": {
    "tags": []
   },
   "outputs": [],
   "source": [
    "class FeedForward(nn.Module):\n",
    "    def __init__(self, embedding_dim):\n",
    "        super().__init__()\n",
    "        self.up_proj = nn.Linear(embedding_dim, embedding_dim*4)\n",
    "        self.down_proj = nn.Linear(embedding_dim*4, embedding_dim)\n",
    "        self.dropout = nn.Dropout(p=dropout)\n",
    "        self.leaky_relu = nn.LeakyReLU()\n",
    "        \n",
    "    def forward(self, x):\n",
    "        out = self.up_proj(x)\n",
    "        out = self.leaky_relu(out)\n",
    "        out = self.down_proj(out)\n",
    "        out = self.dropout(out)\n",
    "        \n",
    "        return out"
   ]
  },
  {
   "cell_type": "code",
   "execution_count": 46,
   "id": "6fdcbe05-1c95-44df-a1dc-e04988b07b04",
   "metadata": {
    "tags": []
   },
   "outputs": [],
   "source": [
    "class FeedForward(nn.Module):\n",
    "    def __init__(self, embedding_dim):\n",
    "        super().__init__()\n",
    "        self.up_proj = nn.Linear(embedding_dim, embedding_dim*8//3, bias=False)\n",
    "        self.silu_proj = nn.Linear(embedding_dim, embedding_dim*8//3, bias=False)\n",
    "        self.down_proj = nn.Linear(embedding_dim*8//3, embedding_dim, bias=False)\n",
    "        self.dropout = nn.Dropout(p=dropout)\n",
    "        \n",
    "    def forward(self, x):\n",
    "        out = F.silu(self.silu_proj(x))*self.up_proj(x)\n",
    "        out = self.down_proj(out)\n",
    "        out = self.dropout(out)\n",
    "        \n",
    "        return out"
   ]
  },
  {
   "cell_type": "code",
   "execution_count": 47,
   "id": "376b661d-efa6-490b-bd72-f6ba6a0416d7",
   "metadata": {
    "tags": []
   },
   "outputs": [],
   "source": [
    "class DynamicTanh(nn.Module):\n",
    "    def __init__(self, normalized_shape, eps=1e-5, init_alpha=0.5):\n",
    "        super().__init__()\n",
    "        self.eps = eps\n",
    "        self.gamma = nn.Parameter(torch.ones(normalized_shape))\n",
    "        self.beta = nn.Parameter(torch.zeros(normalized_shape))\n",
    "        self.alpha = nn.Parameter(torch.ones(1)*init_alpha)\n",
    "        \n",
    "    def forward(self, x):\n",
    "        out = F.tanh(self.alpha*x)\n",
    "        out = self.gamma*out + self.beta\n",
    "        return out"
   ]
  },
  {
   "cell_type": "code",
   "execution_count": 56,
   "id": "5925ac8c-0b69-4bf1-b378-e0d534dd11c5",
   "metadata": {
    "tags": []
   },
   "outputs": [
    {
     "name": "stdout",
     "output_type": "stream",
     "text": [
      "tensor([[[-0.2884,  1.8294, -0.1542,  1.3292,  2.5687,  0.7476],\n",
      "         [ 0.6217,  0.9185, -0.5657, -0.8948, -0.5476, -1.0083],\n",
      "         [-0.0337,  1.9945,  0.4701, -1.0666,  0.0846, -0.2392],\n",
      "         [ 0.7426,  0.8093,  3.1973,  1.0610,  0.2690,  0.7411],\n",
      "         [ 1.0883,  0.0462,  1.3794, -1.5196,  0.3305,  0.1925],\n",
      "         [-0.2253,  0.9790, -0.6693, -1.2764, -0.1432, -1.4753]]])\n"
     ]
    }
   ],
   "source": [
    "t = torch.randn((1,6,6))\n",
    "print(t)\n",
    "# means = t.mean(dim=2)\n",
    "# means"
   ]
  },
  {
   "cell_type": "code",
   "execution_count": 60,
   "id": "52e4ed18-f7d1-4a7a-9ea9-7ec134a3fe83",
   "metadata": {
    "tags": []
   },
   "outputs": [],
   "source": [
    "# LayerNorm(t.shape[-1])(t), nn.LayerNorm(t.shape[-1])(t)"
   ]
  },
  {
   "cell_type": "code",
   "execution_count": 20,
   "id": "a792bc8c-db24-4aa8-a954-bfc7c4d9e7a2",
   "metadata": {
    "tags": []
   },
   "outputs": [],
   "source": [
    "class DecoderBlock(nn.Module):\n",
    "    def __init__(self, embedding_dim: int, num_heads):\n",
    "        super().__init__()\n",
    "        self.multi_head_attention = MultiHeadAttention(embedding_dim, num_heads)\n",
    "        self.feed_forward_net = FeedForward(embedding_dim)\n",
    "        self.dynamic_tanh1 = DynamicTanh(embedding_dim)\n",
    "        self.dynamic_tanh2 = DynamicTanh(embedding_dim)\n",
    "        \n",
    "    def forward(self, x):\n",
    "        out = x + self.multi_head_attention(self.dynamic_tanh1(x))\n",
    "        out = out + self.feed_forward_net(self.dynamic_tanh2(out))\n",
    "        \n",
    "        return out"
   ]
  },
  {
   "cell_type": "code",
   "execution_count": 21,
   "id": "9b27d7cf-6239-4118-a3cc-e1b0c7af600a",
   "metadata": {
    "tags": []
   },
   "outputs": [],
   "source": [
    "class GPT(nn.Module):\n",
    "    def __init__(self, embedding_dim: int = 64, num_heads: int = 8, num_blocks = 8):\n",
    "        super().__init__()\n",
    "        self.embedding = nn.Embedding(vocab_size, embedding_dim)\n",
    "        self.pos_embedding = nn.Embedding(context_length, embedding_dim)\n",
    "        self.blocks = nn.Sequential(*[\n",
    "            DecoderBlock(embedding_dim, num_heads) for _ in range(num_blocks)\n",
    "        ])\n",
    "        self.dynamic_tanh = DynamicTanh(embedding_dim)\n",
    "        self.lm_head = nn.Linear(embedding_dim, vocab_size)\n",
    "        \n",
    "    def forward(self, tokens, targets=None):\n",
    "        out = self.pos_embedding(torch.arange(tokens.shape[-1], device=device)) + self.embedding(tokens)\n",
    "        out = self.blocks(out)\n",
    "        out = self.dynamic_tanh(out)\n",
    "        \n",
    "        logits = self.lm_head(out)\n",
    "                                 \n",
    "        if targets is None:\n",
    "            return logits\n",
    "        \n",
    "        B, T, C = logits.shape\n",
    "        logits = logits.view(B*T, C)\n",
    "        targets = targets.view(B*T)\n",
    "        loss = F.cross_entropy(logits, targets)\n",
    "        \n",
    "        return logits, loss\n",
    "    \n",
    "    def generate(self, tokens, max_new_tokens=100):\n",
    "        for _ in range(max_new_tokens):\n",
    "            context = tokens[:,-context_length:]\n",
    "            logits = self(context)\n",
    "            logits = logits[:,-1,:]\n",
    "            probabilities = F.softmax(logits, dim=1)\n",
    "            next_token = torch.multinomial(probabilities, 1)\n",
    "            tokens = torch.cat((tokens, next_token), dim=1)\n",
    "            \n",
    "        return tokens"
   ]
  },
  {
   "cell_type": "code",
   "execution_count": 22,
   "id": "44802b83-d127-4bd5-8ed3-1a306b4c6f59",
   "metadata": {
    "tags": []
   },
   "outputs": [],
   "source": [
    "model = GPT(embedding_dim=embedding_dim).to(device)"
   ]
  },
  {
   "cell_type": "code",
   "execution_count": 23,
   "id": "075f1fc4-abc3-4ce9-b4c0-78b4b7fd0885",
   "metadata": {
    "tags": []
   },
   "outputs": [
    {
     "name": "stdout",
     "output_type": "stream",
     "text": [
      "Model has 1.62M parameters\n"
     ]
    }
   ],
   "source": [
    "print(f\"Model has {sum(p.numel() for p in model.parameters())/1e6 :.2f}M parameters\")"
   ]
  },
  {
   "cell_type": "code",
   "execution_count": 24,
   "id": "4088650d-7c75-42e9-8a18-080cc160f55c",
   "metadata": {
    "tags": []
   },
   "outputs": [],
   "source": [
    "optimizer = torch.optim.AdamW(model.parameters(), lr=lr)"
   ]
  },
  {
   "cell_type": "code",
   "execution_count": 25,
   "id": "7df821cb-9e95-4945-901f-750e005ab08e",
   "metadata": {
    "tags": []
   },
   "outputs": [],
   "source": [
    "min_loss = torch.inf"
   ]
  },
  {
   "cell_type": "code",
   "execution_count": 26,
   "id": "14736338-eab4-482b-bae1-52ea52958d9e",
   "metadata": {
    "tags": []
   },
   "outputs": [],
   "source": [
    "model_path = \"C:/Users/dhars/Documents/Sagemaker notebooks/GPT1-DyT\""
   ]
  },
  {
   "cell_type": "code",
   "execution_count": 27,
   "id": "2ecea0d5-64f8-4468-9b92-40c3d7326c9d",
   "metadata": {
    "scrolled": true,
    "tags": []
   },
   "outputs": [
    {
     "data": {
      "application/vnd.jupyter.widget-view+json": {
       "model_id": "dbb5d94b00964f12bfce69b0f6787e5f",
       "version_major": 2,
       "version_minor": 0
      },
      "text/plain": [
       "  0%|          | 0/2000 [00:00<?, ?it/s]"
      ]
     },
     "metadata": {},
     "output_type": "display_data"
    },
    {
     "name": "stdout",
     "output_type": "stream",
     "text": [
      "[100/2000]: Train loss:  2.61\n",
      "[200/2000]: Train loss:  2.47\n",
      "[300/2000]: Train loss:  2.49\n",
      "Eval loss improved:  2.43, saving checkpoint\n",
      "[400/2000]: Train loss:  2.32\n",
      "[500/2000]: Train loss:  2.27\n",
      "[600/2000]: Train loss:  2.18\n",
      "Eval loss improved:  2.22, saving checkpoint\n",
      "[700/2000]: Train loss:  2.17\n",
      "[800/2000]: Train loss:  2.07\n",
      "[900/2000]: Train loss:  2.02\n",
      "Eval loss improved:  2.10, saving checkpoint\n",
      "[1000/2000]: Train loss:  2.05\n",
      "[1100/2000]: Train loss:  1.97\n",
      "[1200/2000]: Train loss:  1.98\n",
      "Eval loss improved:  2.00, saving checkpoint\n",
      "[1300/2000]: Train loss:  1.86\n",
      "[1400/2000]: Train loss:  1.96\n",
      "[1500/2000]: Train loss:  1.85\n",
      "Eval loss improved:  1.93, saving checkpoint\n",
      "[1600/2000]: Train loss:  1.84\n",
      "[1700/2000]: Train loss:  1.79\n",
      "[1800/2000]: Train loss:  1.77\n",
      "Eval loss improved:  1.89, saving checkpoint\n",
      "[1900/2000]: Train loss:  1.83\n",
      "[2000/2000]: Train loss:  1.77\n",
      "Eval loss improved:  1.85, saving checkpoint\n"
     ]
    }
   ],
   "source": [
    "for iter_ in tqdm(range(1, max_iters+1), colour='green'):\n",
    "    model.train()\n",
    "    \n",
    "    x,y = get_batches(data=train, batch_size=batch_size, block_size=context_length, device=device)    \n",
    "    logits, loss = model(tokens=x,targets=y)\n",
    "    \n",
    "    optimizer.zero_grad(set_to_none = True)\n",
    "    loss.backward()\n",
    "    optimizer.step()   \n",
    "    \n",
    "    if iter_%100==0:\n",
    "        print(f\"[{iter_}/{max_iters}]: Train loss: {loss.mean(): .2f}\")\n",
    "    if iter_%eval_interval==0 or iter_==max_iters:\n",
    "        model.eval()\n",
    "        eval_losses = torch.zeros(eval_iters)\n",
    "        with torch.no_grad():\n",
    "            for i in range(eval_iters):\n",
    "                x,y = get_batches(test, batch_size, context_length, device)\n",
    "                logits, loss = model(x,y)\n",
    "                eval_losses[i] = loss\n",
    "            eval_loss = eval_losses.mean()\n",
    "            if eval_loss<min_loss:\n",
    "                min_loss = eval_loss\n",
    "                print(f\"Eval loss improved: {eval_loss: .2f}, saving checkpoint\")\n",
    "                torch.save(model.state_dict(), model_path)"
   ]
  },
  {
   "cell_type": "code",
   "execution_count": 62,
   "id": "a847cc35-0bc2-4089-b734-cba6827a936b",
   "metadata": {
    "tags": []
   },
   "outputs": [
    {
     "data": {
      "text/plain": [
       "torch.Size([2, 64])"
      ]
     },
     "execution_count": 62,
     "metadata": {},
     "output_type": "execute_result"
    }
   ],
   "source": [
    "model.pos_embedding(torch.tensor((2,2), device=device)).shape"
   ]
  },
  {
   "cell_type": "code",
   "execution_count": null,
   "id": "3273058b-6211-4392-96c1-ba725c73be0f",
   "metadata": {
    "tags": []
   },
   "outputs": [],
   "source": [
    "state_dict = torch.load('C:/Users/dhars/Documents/Sagemaker notebooks/GPT', map_location=device, weights_only=True)\n",
    "model.load_state_dict(state_dict)"
   ]
  },
  {
   "cell_type": "code",
   "execution_count": 69,
   "id": "ec0c8353-f928-48fd-bb65-dd7601195896",
   "metadata": {
    "tags": []
   },
   "outputs": [
    {
     "data": {
      "text/plain": [
       "'fMA\\nA?P.OddNdd;tIxGgFaWOFnAQecbiQ'"
      ]
     },
     "execution_count": 69,
     "metadata": {},
     "output_type": "execute_result"
    }
   ],
   "source": [
    "model.eval()\n",
    "\n",
    "tokenizer.decode(model.generate(torch.tensor(tokenizer.tokenize(\"First Citizen\"), device=device).unsqueeze(0), max_new_tokens=100)[0].tolist())"
   ]
  },
  {
   "cell_type": "code",
   "execution_count": 69,
   "id": "9e14a486-4b2e-41fc-8430-0086ec061c2b",
   "metadata": {
    "tags": []
   },
   "outputs": [
    {
     "name": "stdout",
     "output_type": "stream",
     "text": [
      "BRUTUS:\n",
      "Condakes requel he had comps to his much\n",
      "Murderade With from in Romaltite, andscading the will,\n",
      "No dethough. Duked thing-have maughty to they,\n",
      "And which in Forne-beesity till'd, reeal seep to feear\n",
      "All the no my helpied in hique my love else.\n",
      "What, whe so watmplenedionce; and so morrth.\n",
      "\n",
      "Citichmen\n"
     ]
    }
   ],
   "source": [
    "model.eval()\n",
    "\n",
    "prompt = torch.tensor(tokenizer.tokenize(\"BRUTUS\"), device=device).unsqueeze(0)\n",
    "out = tokenizer.decode(model.generate(prompt, max_new_tokens=300)[0].tolist())\n",
    "print(out)"
   ]
  },
  {
   "cell_type": "code",
   "execution_count": 118,
   "id": "fe51c3ed-c724-4aa8-9bb2-4da175b3afbe",
   "metadata": {
    "tags": []
   },
   "outputs": [
    {
     "data": {
      "text/plain": [
       "33"
      ]
     },
     "execution_count": 118,
     "metadata": {},
     "output_type": "execute_result"
    }
   ],
   "source": [
    "len('fMA\\nA?P.OddNdd;tIxGgFaWOFnAQecbiQ')"
   ]
  },
  {
   "cell_type": "code",
   "execution_count": 71,
   "id": "bf41e437-0283-4a2c-b276-0a35718d319c",
   "metadata": {
    "tags": []
   },
   "outputs": [
    {
     "data": {
      "text/plain": [
       "'T\\nibT3aJj-TQ!dYvciJovmWTCwSANqVtl'"
      ]
     },
     "execution_count": 71,
     "metadata": {},
     "output_type": "execute_result"
    }
   ],
   "source": [
    "tokenizer.decode(torch.tensor([53,  3, 15,  4, 53, 36,  7, 56,  6, 49, 53, 11, 54, 52, 57, 47, 50, 15,\n",
    "        56, 61, 47, 63, 31, 53, 59, 14,  5, 45, 34,  2, 62, 23, 37]).tolist())"
   ]
  },
  {
   "cell_type": "code",
   "execution_count": 60,
   "id": "d0551f13-9462-44c1-aa82-7b9a6469662f",
   "metadata": {
    "tags": []
   },
   "outputs": [
    {
     "data": {
      "text/plain": [
       "torch.Size([1, 32])"
      ]
     },
     "execution_count": 60,
     "metadata": {},
     "output_type": "execute_result"
    }
   ],
   "source": [
    "torch.tensor(tokenizer.tokenize(\"Yo mutha is so phat thy gravity \"), device='cpu').unsqueeze(0).shape"
   ]
  },
  {
   "cell_type": "code",
   "execution_count": 170,
   "id": "b3105bf3-2dce-47fa-bdcb-efba6c6f512a",
   "metadata": {
    "tags": []
   },
   "outputs": [],
   "source": [
    "def generate(tokens, max_new_tokens=100, temperature=0.1):\n",
    "    for _ in range(max_new_tokens):\n",
    "        context = tokens[:,-context_length:]\n",
    "        logits = model(context)\n",
    "        logits = logits[:,-1,:]\n",
    "        probabilities = F.softmax(logits/temperature, dim=1)\n",
    "        next_token = torch.multinomial(probabilities, 1)\n",
    "        tokens = torch.cat((tokens, next_token), dim=1)\n",
    "\n",
    "    return tokens"
   ]
  },
  {
   "cell_type": "code",
   "execution_count": 171,
   "id": "4c316231-3e8f-42cf-98b4-03b4478f802f",
   "metadata": {
    "tags": []
   },
   "outputs": [],
   "source": [
    "out = generate(prompt, max_new_tokens=100)"
   ]
  },
  {
   "cell_type": "code",
   "execution_count": 173,
   "id": "77e173b3-4ed1-46e3-98ac-6c07dde1fe27",
   "metadata": {
    "tags": []
   },
   "outputs": [
    {
     "name": "stdout",
     "output_type": "stream",
     "text": [
      "BRUTUS:\n",
      "The stand the father the father of the hands:\n",
      "The shall be the some the some of the the some\n",
      "That \n"
     ]
    }
   ],
   "source": [
    "print(tokenizer.decode(out[0].tolist()))"
   ]
  },
  {
   "cell_type": "code",
   "execution_count": null,
   "id": "adb8210e-b61f-478a-adde-bf49d781a255",
   "metadata": {},
   "outputs": [],
   "source": []
  }
 ],
 "metadata": {
  "kernelspec": {
   "display_name": "Python 3 (ipykernel)",
   "language": "python",
   "name": "python3"
  },
  "language_info": {
   "codemirror_mode": {
    "name": "ipython",
    "version": 3
   },
   "file_extension": ".py",
   "mimetype": "text/x-python",
   "name": "python",
   "nbconvert_exporter": "python",
   "pygments_lexer": "ipython3",
   "version": "3.11.5"
  }
 },
 "nbformat": 4,
 "nbformat_minor": 5
}
